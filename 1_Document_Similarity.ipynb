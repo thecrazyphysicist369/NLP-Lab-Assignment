{
  "nbformat": 4,
  "nbformat_minor": 0,
  "metadata": {
    "colab": {
      "name": "1. Document Similarity.ipynb",
      "provenance": [],
      "authorship_tag": "ABX9TyO+kCwbmiw0J0gBgJE3LDJw",
      "include_colab_link": true
    },
    "kernelspec": {
      "name": "python3",
      "display_name": "Python 3"
    },
    "language_info": {
      "name": "python"
    }
  },
  "cells": [
    {
      "cell_type": "markdown",
      "metadata": {
        "id": "view-in-github",
        "colab_type": "text"
      },
      "source": [
        "<a href=\"https://colab.research.google.com/github/thecrazyphysicist369/NLP-Lab-Assignment/blob/main/1_Document_Similarity.ipynb\" target=\"_parent\"><img src=\"https://colab.research.google.com/assets/colab-badge.svg\" alt=\"Open In Colab\"/></a>"
      ]
    },
    {
      "cell_type": "markdown",
      "metadata": {
        "id": "Vn2bknwh0IeK"
      },
      "source": [
        "##1. Write a pyhton program to measure the document similarity."
      ]
    },
    {
      "cell_type": "code",
      "metadata": {
        "colab": {
          "base_uri": "https://localhost:8080/"
        },
        "id": "mZcNFRhqYkmb",
        "outputId": "8d716260-257a-4ea4-9acf-442de92a0aa7"
      },
      "source": [
        "#importing the repository\n",
        "!git clone https://github.com/thecrazyphysicist369/NLP-Lab-Assignment"
      ],
      "execution_count": null,
      "outputs": [
        {
          "output_type": "stream",
          "text": [
            "Cloning into 'NLP-Lab-Assignment'...\n",
            "remote: Enumerating objects: 37, done.\u001b[K\n",
            "remote: Counting objects: 100% (37/37), done.\u001b[K\n",
            "remote: Compressing objects: 100% (33/33), done.\u001b[K\n",
            "remote: Total 37 (delta 12), reused 0 (delta 0), pack-reused 0\u001b[K\n",
            "Unpacking objects: 100% (37/37), done.\n"
          ],
          "name": "stdout"
        }
      ]
    },
    {
      "cell_type": "code",
      "metadata": {
        "id": "dVxL4_uMop1S"
      },
      "source": [
        "import math\n",
        "import string\n",
        "import sys"
      ],
      "execution_count": null,
      "outputs": []
    },
    {
      "cell_type": "code",
      "metadata": {
        "id": "a3bTDP7HGJlq"
      },
      "source": [
        "#function to read the file\n",
        "def read_file(path):\n",
        "  with open(path, 'rb') as fopen:\n",
        "    doc = fopen.read().decode('latin-1')\n",
        "    return doc\n",
        "\n",
        "  \n",
        "# splitting the text lines into words\n",
        "# translation table is a global variable\n",
        "# mapping upper case to lower case and\n",
        "# punctuation to spaces\n",
        "translation_table = str.maketrans(string.punctuation+string.ascii_uppercase,\n",
        "                                     \" \"*len(string.punctuation)+string.ascii_lowercase)\n",
        "       \n",
        "# returns a list of the words\n",
        "# in the file\n",
        "def get_words_from_line_list(text): \n",
        "      \n",
        "    text = text.translate(translation_table)\n",
        "    word_list = text.split()\n",
        "      \n",
        "    return word_list"
      ],
      "execution_count": null,
      "outputs": []
    },
    {
      "cell_type": "code",
      "metadata": {
        "id": "fkEkDN9desQe"
      },
      "source": [
        "# counts frequency of each word\n",
        "# returns a dictionary which maps\n",
        "# the words to their frequency.\n",
        "def count_frequency(word_list):\n",
        "\t\n",
        "\tD = {}\n",
        "\t\n",
        "\tfor new_word in word_list:\n",
        "\t\t\n",
        "\t\tif new_word in D:\n",
        "\t\t\tD[new_word] = D[new_word] + 1\n",
        "\t\t\t\n",
        "\t\telse:\n",
        "\t\t\tD[new_word] = 1\n",
        "\t\t\t\n",
        "\treturn D\n",
        "\n",
        "# returns dictionary of (word, frequency)\n",
        "# pairs from the previous dictionary.\n",
        "def word_frequencies_for_file(filename):\n",
        "\t\n",
        "\tline_list = read_file(filename)\n",
        "\tword_list = get_words_from_line_list(line_list)\n",
        "\tfreq_mapping = count_frequency(word_list)\n",
        "\n",
        "\tprint(\"File\", filename, \":\", )\n",
        "\tprint(len(line_list), \"lines, \", )\n",
        "\tprint(len(word_list), \"words, \", )\n",
        "\tprint(len(freq_mapping), \"distinct words\")\n",
        "\n",
        "\treturn freq_mapping\n"
      ],
      "execution_count": null,
      "outputs": []
    },
    {
      "cell_type": "code",
      "metadata": {
        "id": "m51Ojbo7gcjL"
      },
      "source": [
        "# returns the dot product of two documents\n",
        "def dotProduct(D1, D2):\n",
        "\tSum = 0.0\n",
        "\t\n",
        "\tfor key in D1:\n",
        "\t\t\n",
        "\t\tif key in D2:\n",
        "\t\t\tSum += (D1[key] * D2[key])\n",
        "\t\t\t\n",
        "\treturn Sum\n",
        "\n",
        "# returns the angle in radians\n",
        "# between document vectors\n",
        "def vector_angle(D1, D2):\n",
        "\tnumerator = dotProduct(D1, D2)\n",
        "\tdenominator = math.sqrt(dotProduct(D1, D1)*dotProduct(D2, D2))\n",
        "\t\n",
        "\treturn math.acos(numerator / denominator)\n"
      ],
      "execution_count": null,
      "outputs": []
    },
    {
      "cell_type": "code",
      "metadata": {
        "id": "-J1TNzDYgfKm"
      },
      "source": [
        "def documentSimilarity(filename_1, filename_2):\n",
        "\t\n",
        "# filename_1 = sys.argv[1]\n",
        "# filename_2 = sys.argv[2]\n",
        "\tsorted_word_list_1 = word_frequencies_for_file(filename_1)\n",
        "\tsorted_word_list_2 = word_frequencies_for_file(filename_2)\n",
        "\tdistance = vector_angle(sorted_word_list_1, sorted_word_list_2)\n",
        "\t\n",
        "\tprint(\"The distance between the documents is: % 0.6f (radians)\"% distance)\n"
      ],
      "execution_count": null,
      "outputs": []
    },
    {
      "cell_type": "code",
      "metadata": {
        "id": "9epbSMkBg2LR"
      },
      "source": [
        "doc_1 = '/content/NLP-Lab-Assignment/data/doc_1.pdf'\n",
        "doc_2 = '/content/NLP-Lab-Assignment/data/doc_2.pdf'"
      ],
      "execution_count": null,
      "outputs": []
    },
    {
      "cell_type": "code",
      "metadata": {
        "colab": {
          "base_uri": "https://localhost:8080/"
        },
        "id": "hHRQcNxxgu7a",
        "outputId": "182c810d-f1ca-4b7a-dd90-770708b6341e"
      },
      "source": [
        "documentSimilarity(doc_1, doc_2)"
      ],
      "execution_count": null,
      "outputs": [
        {
          "output_type": "stream",
          "text": [
            "File /content/NLP-Lab-Assignment/data/doc_1.pdf :\n",
            "1869090 lines, \n",
            "258974 words, \n",
            "94738 distinct words\n",
            "File /content/NLP-Lab-Assignment/data/doc_2.pdf :\n",
            "1898112 lines, \n",
            "257107 words, \n",
            "149955 distinct words\n",
            "The distance between the documents is:  1.305676 (radians)\n"
          ],
          "name": "stdout"
        }
      ]
    }
  ]
}