{
  "nbformat": 4,
  "nbformat_minor": 0,
  "metadata": {
    "colab": {
      "name": "7. HMM.ipynb",
      "provenance": [],
      "authorship_tag": "ABX9TyM8IP7A0pMKJe9wwWKERUjq",
      "include_colab_link": true
    },
    "kernelspec": {
      "name": "python3",
      "display_name": "Python 3"
    },
    "language_info": {
      "name": "python"
    }
  },
  "cells": [
    {
      "cell_type": "markdown",
      "metadata": {
        "id": "view-in-github",
        "colab_type": "text"
      },
      "source": [
        "<a href=\"https://colab.research.google.com/github/thecrazyphysicist369/NLP-Lab-Assignment/blob/main/7_HMM.ipynb\" target=\"_parent\"><img src=\"https://colab.research.google.com/assets/colab-badge.svg\" alt=\"Open In Colab\"/></a>"
      ]
    },
    {
      "cell_type": "markdown",
      "metadata": {
        "id": "_K6AnXVd9ytj"
      },
      "source": [
        "##7. Write a python program to implement the HMM."
      ]
    },
    {
      "cell_type": "code",
      "metadata": {
        "id": "5GPd6whm6OCC"
      },
      "source": [
        "import numpy as np\n",
        "import pandas as pd"
      ],
      "execution_count": 1,
      "outputs": []
    },
    {
      "cell_type": "code",
      "metadata": {
        "id": "mTWJkon_r_7l"
      },
      "source": [
        "class ProbabilityVector:\n",
        "    def __init__(self, probabilities: dict):\n",
        "        states = probabilities.keys()\n",
        "        probs  = probabilities.values()\n",
        "        \n",
        "        assert len(states) == len(probs), \"The probabilities must match the states.\"\n",
        "        assert len(states) == len(set(states)), \"The states must be unique.\"\n",
        "        assert abs(sum(probs) - 1.0) < 1e-12, \"Probabilities must sum up to 1.\"\n",
        "        assert len(list(filter(lambda x: 0 <= x <= 1, probs))) == len(probs), \"Probabilities must be numbers from [0, 1] interval.\"\n",
        "        \n",
        "        self.states = sorted(probabilities)\n",
        "        self.values = np.array(list(map(lambda x: \n",
        "            probabilities[x], self.states))).reshape(1, -1)\n",
        "        \n",
        "    @classmethod\n",
        "    def initialize(cls, states: list):\n",
        "        size = len(states)\n",
        "        rand = np.random.rand(size) / (size**2) + 1 / size\n",
        "        rand /= rand.sum(axis=0)\n",
        "        return cls(dict(zip(states, rand)))\n",
        "    \n",
        "    @classmethod\n",
        "    def from_numpy(cls, array: np.ndarray, state: list):\n",
        "        return cls(dict(zip(states, list(array))))\n",
        "\n",
        "    @property\n",
        "    def dict(self):\n",
        "        return {k:v for k, v in zip(self.states, list(self.values.flatten()))}\n",
        "\n",
        "    @property\n",
        "    def df(self):\n",
        "        return pd.DataFrame(self.values, columns=self.states, index=['probability'])\n",
        "\n",
        "    def __repr__(self):\n",
        "        return \"P({}) = {}.\".format(self.states, self.values)\n",
        "\n",
        "    def __eq__(self, other):\n",
        "        if not isinstance(other, ProbabilityVector):\n",
        "            raise NotImplementedError\n",
        "        if (self.states == other.states) and (self.values == other.values).all():\n",
        "            return True\n",
        "        return False\n",
        "\n",
        "    def __getitem__(self, state: str) -> float:\n",
        "        if state not in self.states:\n",
        "            raise ValueError(\"Requesting unknown probability state from vector.\")\n",
        "        index = self.states.index(state)\n",
        "        return float(self.values[0, index])\n",
        "\n",
        "    def __mul__(self, other) -> np.ndarray:\n",
        "        if isinstance(other, ProbabilityVector):\n",
        "            return self.values * other.values\n",
        "        elif isinstance(other, (int, float)):\n",
        "            return self.values * other\n",
        "        else:\n",
        "            NotImplementedError\n",
        "\n",
        "    def __rmul__(self, other) -> np.ndarray:\n",
        "        return self.__mul__(other)\n",
        "\n",
        "    def __matmul__(self, other) -> np.ndarray:\n",
        "        if isinstance(other, ProbabilityMatrix):\n",
        "            return self.values @ other.values\n",
        "\n",
        "    def __truediv__(self, number) -> np.ndarray:\n",
        "        if not isinstance(number, (int, float)):\n",
        "            raise NotImplementedError\n",
        "        x = self.values\n",
        "        return x / number if number != 0 else x / (number + 1e-12)\n",
        "\n",
        "    def argmax(self):\n",
        "        index = self.values.argmax()\n",
        "        return self.states[index]"
      ],
      "execution_count": 4,
      "outputs": []
    },
    {
      "cell_type": "code",
      "metadata": {
        "colab": {
          "base_uri": "https://localhost:8080/"
        },
        "id": "uhhmyfvLtEDT",
        "outputId": "2619c074-5ed3-4995-feff-1cc932e329c6"
      },
      "source": [
        "a1 = ProbabilityVector({'rain': 0.7, 'sun': 0.3})\n",
        "a2 = ProbabilityVector({'sun': 0.1, 'rain': 0.9})\n",
        "print(a1.df)\n",
        "print(a2.df)\n",
        "\n",
        "print(\"Comparison:\", a1 == a2)\n",
        "print(\"Element-wise multiplication:\", a1 * a2)\n",
        "print(\"Argmax:\", a1.argmax())\n",
        "print(\"Getitem:\", a1['rain'])"
      ],
      "execution_count": 5,
      "outputs": [
        {
          "output_type": "stream",
          "text": [
            "             rain  sun\n",
            "probability   0.7  0.3\n",
            "             rain  sun\n",
            "probability   0.9  0.1\n",
            "Comparison: False\n",
            "Element-wise multiplication: [[0.63 0.03]]\n",
            "Argmax: rain\n",
            "Getitem: 0.7\n"
          ],
          "name": "stdout"
        }
      ]
    }
  ]
}