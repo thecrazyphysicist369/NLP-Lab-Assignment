{
  "nbformat": 4,
  "nbformat_minor": 0,
  "metadata": {
    "colab": {
      "name": "4. Word Collocations.ipynb",
      "provenance": [],
      "authorship_tag": "ABX9TyNOOUkh8G0efep2e75XdkYu",
      "include_colab_link": true
    },
    "kernelspec": {
      "name": "python3",
      "display_name": "Python 3"
    },
    "language_info": {
      "name": "python"
    }
  },
  "cells": [
    {
      "cell_type": "markdown",
      "metadata": {
        "id": "view-in-github",
        "colab_type": "text"
      },
      "source": [
        "<a href=\"https://colab.research.google.com/github/thecrazyphysicist369/NLP-Lab-Assignment/blob/main/4_Word_Collocations.ipynb\" target=\"_parent\"><img src=\"https://colab.research.google.com/assets/colab-badge.svg\" alt=\"Open In Colab\"/></a>"
      ]
    },
    {
      "cell_type": "markdown",
      "metadata": {
        "id": "qQhvhDjh6Nt4"
      },
      "source": [
        "##4. Write a python program to find the word collocations."
      ]
    },
    {
      "cell_type": "code",
      "metadata": {
        "id": "7iVCvkzm6CPD",
        "colab": {
          "base_uri": "https://localhost:8080/"
        },
        "outputId": "c62811ef-1fa3-469e-c2fe-530dd1ca0208"
      },
      "source": [
        "#cloning the repo\n",
        "!git clone https://github.com/thecrazyphysicist369/NLP-Lab-Assignment"
      ],
      "execution_count": 1,
      "outputs": [
        {
          "output_type": "stream",
          "text": [
            "Cloning into 'NLP-Lab-Assignment'...\n",
            "remote: Enumerating objects: 72, done.\u001b[K\n",
            "remote: Counting objects: 100% (72/72), done.\u001b[K\n",
            "remote: Compressing objects: 100% (67/67), done.\u001b[K\n",
            "remote: Total 72 (delta 29), reused 0 (delta 0), pack-reused 0\u001b[K\n",
            "Unpacking objects: 100% (72/72), done.\n"
          ],
          "name": "stdout"
        }
      ]
    },
    {
      "cell_type": "code",
      "metadata": {
        "id": "mLB9HGDb4Sok"
      },
      "source": [
        "import nltk\n",
        "from nltk.corpus import webtext\n",
        "\n",
        "# use to find bigrams, which are pairs of words\n",
        "from nltk.collocations import BigramCollocationFinder\n",
        "from nltk.metrics import BigramAssocMeasures\n"
      ],
      "execution_count": 11,
      "outputs": []
    },
    {
      "cell_type": "code",
      "metadata": {
        "colab": {
          "base_uri": "https://localhost:8080/"
        },
        "id": "GTOOBwkC5ObQ",
        "outputId": "6313f61f-a82d-48bf-d4ad-c0913891974e"
      },
      "source": [
        "nltk.download('webtext')"
      ],
      "execution_count": 12,
      "outputs": [
        {
          "output_type": "stream",
          "text": [
            "[nltk_data] Downloading package webtext to /root/nltk_data...\n",
            "[nltk_data]   Unzipping corpora/webtext.zip.\n"
          ],
          "name": "stdout"
        },
        {
          "output_type": "execute_result",
          "data": {
            "text/plain": [
              "True"
            ]
          },
          "metadata": {
            "tags": []
          },
          "execution_count": 12
        }
      ]
    },
    {
      "cell_type": "code",
      "metadata": {
        "id": "4-rfL3bp5LFY"
      },
      "source": [
        "#reading the words from the file\n",
        "words = [w.lower() for w in webtext.words('/content/NLP-Lab-Assignment/data/doc_1.txt')]"
      ],
      "execution_count": null,
      "outputs": []
    },
    {
      "cell_type": "code",
      "metadata": {
        "colab": {
          "base_uri": "https://localhost:8080/"
        },
        "id": "EhKsos7_4ai-",
        "outputId": "965b30e4-68d3-43fe-a24d-143e7a140bb7"
      },
      "source": [
        "#finding collocations\n",
        "biagram_collocation = BigramCollocationFinder.from_words(words)\n",
        "collocations = biagram_collocation.nbest(BigramAssocMeasures.likelihood_ratio, 50)\n",
        "\n",
        "#truncating the collocations\n",
        "collocations[20:]"
      ],
      "execution_count": 19,
      "outputs": [
        {
          "output_type": "execute_result",
          "data": {
            "text/plain": [
              "[('it', '\\x92'),\n",
              " ('machine', 'learning'),\n",
              " ('your', 'organisation'),\n",
              " ('ve', 'heard'),\n",
              " ('this', 'is'),\n",
              " ('isn', '\\x92'),\n",
              " ('won', '\\x92'),\n",
              " ('to', 'get'),\n",
              " ('stuff', 'done'),\n",
              " ('four', 'options'),\n",
              " ('all', 'too'),\n",
              " ('better', 'suited'),\n",
              " ('bought', 'into'),\n",
              " ('dream', 'job'),\n",
              " ('fall', 'into'),\n",
              " ('often', 'leads'),\n",
              " ('reach', 'out'),\n",
              " ('a', 'lot'),\n",
              " ('a', 'strong'),\n",
              " ('you', 'can'),\n",
              " ('\\x97', 'you'),\n",
              " (',', 'but'),\n",
              " ('-', 'hand'),\n",
              " ('this', 'can'),\n",
              " ('also', 'help'),\n",
              " ('as', 'a'),\n",
              " ('.', 'having'),\n",
              " ('has', 'been'),\n",
              " ('relationship', 'with'),\n",
              " ('new', 'roles')]"
            ]
          },
          "metadata": {
            "tags": []
          },
          "execution_count": 19
        }
      ]
    },
    {
      "cell_type": "code",
      "metadata": {
        "id": "pgwPLe714w_Y"
      },
      "source": [
        ""
      ],
      "execution_count": null,
      "outputs": []
    }
  ]
}