{
  "nbformat": 4,
  "nbformat_minor": 0,
  "metadata": {
    "colab": {
      "name": "3. Part of Speech Tagging.ipynb",
      "provenance": [],
      "authorship_tag": "ABX9TyO3eRSPOON1auEwsGlOdgks",
      "include_colab_link": true
    },
    "kernelspec": {
      "name": "python3",
      "display_name": "Python 3"
    },
    "language_info": {
      "name": "python"
    }
  },
  "cells": [
    {
      "cell_type": "markdown",
      "metadata": {
        "id": "view-in-github",
        "colab_type": "text"
      },
      "source": [
        "<a href=\"https://colab.research.google.com/github/thecrazyphysicist369/NLP-Lab-Assignment/blob/main/3_Part_of_Speech_Tagging.ipynb\" target=\"_parent\"><img src=\"https://colab.research.google.com/assets/colab-badge.svg\" alt=\"Open In Colab\"/></a>"
      ]
    },
    {
      "cell_type": "markdown",
      "metadata": {
        "id": "2A5l6sgK45kp"
      },
      "source": [
        "##Write a python program for part of the speech tagging with NLTK."
      ]
    },
    {
      "cell_type": "code",
      "metadata": {
        "id": "Yl7Sa_1_3xRG",
        "colab": {
          "base_uri": "https://localhost:8080/"
        },
        "outputId": "a072f775-1fb4-4666-f99e-46ae6658a20d"
      },
      "source": [
        "!git clone https://github.com/thecrazyphysicist369/NLP-Lab-Assignment"
      ],
      "execution_count": 1,
      "outputs": [
        {
          "output_type": "stream",
          "text": [
            "Cloning into 'NLP-Lab-Assignment'...\n",
            "remote: Enumerating objects: 69, done.\u001b[K\n",
            "remote: Counting objects: 100% (69/69), done.\u001b[K\n",
            "remote: Compressing objects: 100% (64/64), done.\u001b[K\n",
            "remote: Total 69 (delta 28), reused 0 (delta 0), pack-reused 0\u001b[K\n",
            "Unpacking objects: 100% (69/69), done.\n"
          ],
          "name": "stdout"
        }
      ]
    },
    {
      "cell_type": "code",
      "metadata": {
        "colab": {
          "base_uri": "https://localhost:8080/"
        },
        "id": "ig0uqsuWck68",
        "outputId": "467be3a7-3a64-47d9-e30c-242afecd5a01"
      },
      "source": [
        "#importing all the required processed corpuses \n",
        "import nltk\n",
        "nltk.download('stopwords')\n",
        "nltk.download('punkt')\n",
        "nltk.download('averaged_perceptron_tagger')"
      ],
      "execution_count": 2,
      "outputs": [
        {
          "output_type": "stream",
          "text": [
            "[nltk_data] Downloading package stopwords to /root/nltk_data...\n",
            "[nltk_data]   Unzipping corpora/stopwords.zip.\n",
            "[nltk_data] Downloading package punkt to /root/nltk_data...\n",
            "[nltk_data]   Unzipping tokenizers/punkt.zip.\n",
            "[nltk_data] Downloading package averaged_perceptron_tagger to\n",
            "[nltk_data]     /root/nltk_data...\n",
            "[nltk_data]   Unzipping taggers/averaged_perceptron_tagger.zip.\n"
          ],
          "name": "stdout"
        },
        {
          "output_type": "execute_result",
          "data": {
            "text/plain": [
              "True"
            ]
          },
          "metadata": {
            "tags": []
          },
          "execution_count": 2
        }
      ]
    },
    {
      "cell_type": "markdown",
      "metadata": {
        "id": "9d5InSpOdG16"
      },
      "source": [
        "##Legend\n",
        "* **CC** = _coordinating conjunction_\n",
        "* **CD** = _cardinal digit_\n",
        "* **DT** = _determiner_\n",
        "* **EX** = _existential there (like: “there is” … think of it like “there exists”)_\n",
        "* **FW** = _foreign word_\n",
        "* **IN** = _preposition/subordinating conjunction_\n",
        "* **JJ** = _adjective ‘big’_\n",
        "* **JJR** = _adjective, comparative ‘bigger’_\n",
        "* **JJS** = _adjective, superlative ‘biggest’_\n",
        "* **LS** = _list marker 1)_\n",
        "* **MD** = _modal could, will_\n",
        "* **NN** = _noun, singular ‘desk’_\n",
        "* **NNS** = _noun plural ‘desks’_\n",
        "* **NNP** = _proper noun, singular ‘Harrison’_\n",
        "* **NNPS** = _proper noun, plural ‘Americans’_\n",
        "* **PDT** = _predeterminer ‘all the kids’_\n",
        "* **POS** = _possessive ending parent‘s_\n",
        "* **PRP** = _personal pronoun I, he, she_\n",
        "* **PRP** = _possessive pronoun my, his, hers_\n",
        "* **RB** = _adverb very, silently,_\n",
        "* **RBR** = _adverb, comparative better_\n",
        "* **RBS** = _adverb, superlative best_\n",
        "* **RP** = _particle give up_\n",
        "* **TO** = _to go ‘to‘ the store._\n",
        "* **UH** = _interjection errrrrrrrm_\n",
        "* **VB** = _verb, base form take_\n",
        "* **VBD** = _verb, past tense took_\n",
        "* **VBG** = _verb, gerund/present participle taking_\n",
        "* **VBN** = _verb, past participle taken_\n",
        "* **VBP** = _verb, sing. present, non-3d take_\n",
        "* **VBZ** = _verb, 3rd person sing. present takes_\n",
        "* **WDT** = _wh-determiner which_\n",
        "* **WP** = _wh-pronoun who, what_\n",
        "* **WP** = _possessive wh-pronoun whose_\n",
        "* **WRB** = _wh-abverb where, when_"
      ]
    },
    {
      "cell_type": "code",
      "metadata": {
        "id": "vzhNaPgmcm3D",
        "colab": {
          "base_uri": "https://localhost:8080/"
        },
        "outputId": "f1028be8-d455-45f6-82eb-cdd748f8932e"
      },
      "source": [
        "import nltk\n",
        "from nltk.corpus import stopwords\n",
        "from nltk.tokenize import word_tokenize, sent_tokenize\n",
        "stop_words = set(stopwords.words('english'))\n",
        "\n",
        "#Dummy text\n",
        "def read_file(path):\n",
        "  with open(path, 'rb') as fopen:\n",
        "    doc = fopen.read().decode('latin-1')\n",
        "    return doc\n",
        "# sent_tokenize is one of instances of\n",
        "# PunktSentenceTokenizer from the nltk.tokenize.punkt module\n",
        "\n",
        "txt = read_file('/content/NLP-Lab-Assignment/data/doc_1.txt')\n",
        "\n",
        "tokenized = sent_tokenize(txt)\n",
        "for i in tokenized:\n",
        "\t\n",
        "\t# Word tokenizers is used to find the words\n",
        "\t# and punctuation in a string\n",
        "\twordsList = nltk.word_tokenize(i)\n",
        "\n",
        "\t# removing stop words from wordList\n",
        "\twordsList = [w for w in wordsList if not w in stop_words]\n",
        "\n",
        "\t# Using a Tagger. Which is part-of-speech\n",
        "\t# tagger or POS-tagger.\n",
        "\ttagged = nltk.pos_tag(wordsList)\n",
        "\n",
        "\tprint(tagged)\n"
      ],
      "execution_count": 3,
      "outputs": [
        {
          "output_type": "stream",
          "text": [
            "[('Dream', 'NN'), ('job', 'NN'), ('?', '.')]\n",
            "[('We\\x92re', 'NNP'), ('often', 'RB'), ('bombarded', 'VBD'), ('popular', 'JJ'), ('data', 'NNS'), ('science', 'NN'), ('career', 'NN'), ('.', '.')]\n",
            "[('It\\x92s', 'NNP'), ('common', 'JJ'), ('read', 'VBD'), ('things', 'NNS'), ('like', 'IN'), ('data', 'NNS'), ('science', 'NN'), ('\\x93Sexiest', 'JJS'), ('Job', '$'), ('21st', 'CD'), ('Century\\x94', 'NNP'), ('yearly', 'JJ'), ('comparisons', 'NNS'), ('high', 'JJ'), ('salary', 'JJ'), ('expectations', 'NNS'), ('.', '.')]\n",
            "[('Data', 'NNP'), ('science', 'NN'), ('lot', 'NN'), ('offer', 'NN'), ('.', '.')]\n",
            "[('It\\x92s', 'NNP'), ('challenging', 'VBG'), ('role', 'NN'), ('plenty', 'NN'), ('learn', 'VBP'), ('keep', 'VB'), ('occupied', 'JJ'), ('.', '.')]\n",
            "[('Compared', 'NNP'), ('many', 'JJ'), ('roles', 'NNS'), (',', ','), ('data', 'NNS'), ('scientists', 'NNS'), ('given', 'VBN'), ('lot', 'NN'), ('autonomy', 'NN'), ('explore', 'IN'), ('solve', 'JJ'), ('interesting', 'JJ'), ('problems', 'NNS'), ('.', '.')]\n",
            "[('And', 'CC'), (',', ','), ('many', 'JJ'), ('cases', 'NNS'), (',', ','), ('you\\x92ll', 'VBP'), ('get', 'VB'), ('opportunity', 'NN'), ('work', 'NN'), ('talented', 'VBD'), ('skilled', 'JJ'), ('people', 'NNS'), ('variety', 'NN'), ('domains', 'NNS'), ('.', '.')]\n",
            "[('Despite', 'IN'), (',', ','), ('many', 'JJ'), ('data', 'NNS'), ('scientists', 'NNS'), ('spend', 'VBP'), ('several', 'JJ'), ('hours', 'NNS'), ('week', 'NN'), ('looking', 'VBG'), ('new', 'JJ'), ('roles', 'NNS'), ('according', 'VBG'), ('Kaggle', 'NNP'), ('survey', 'NN'), ('.', '.')]\n",
            "[('In', 'IN'), ('fact', 'NN'), (',', ','), ('working', 'VBG'), ('machine', 'NN'), ('learning', 'VBG'), ('regularly', 'RB'), ('top', 'JJ'), ('lists', 'NNS'), ('developers', 'NNS'), ('looking', 'VBG'), ('new', 'JJ'), ('roles', 'NNS'), ('\\x97', 'VBP'), ('20.5', 'CD'), ('%', 'NN'), ('2020', 'CD'), ('Developer', 'NNP'), ('Survey', 'NNP'), ('Stack', 'NNP'), ('Overflow', 'NNP'), (',', ','), ('second', 'JJ'), ('academics', 'NNS'), ('!', '.')]\n",
            "[('If', 'IN'), ('data', 'NNS'), ('science', 'NN'), ('dream', 'NN'), ('job', 'NN'), ('begs', 'JJ'), ('question', 'NN'), ('Now', 'RB'), ('I\\x92ve', 'NNP'), (',', ','), ('hopefully', 'RB'), (',', ','), ('experience', 'NN'), ('shed', 'VBD'), ('light', 'JJ'), ('situation', 'NN'), ('.', '.')]\n",
            "[('I', 'PRP'), ('data', 'VBP'), ('scientist', 'JJ'), ('several', 'JJ'), ('years', 'NNS'), ('taking', 'VBG'), ('leap', 'JJ'), ('director', 'NN'), ('position', 'NN'), ('startup', 'NN'), ('.', '.')]\n",
            "[('I', 'PRP'), ('work', 'VBP'), ('managerial/leadership', 'JJ'), ('role', 'NN'), ('.', '.')]\n",
            "[('Having', 'VBG'), ('data', 'NNS'), ('scientist', 'NN'), ('managing', 'VBG'), ('teams', 'NNS'), ('(', '('), ('well', 'RB'), ('broader', 'JJR'), ('developer', 'NN'), ('data', 'NNS'), ('teams', 'NNS'), (')', ')'), (',', ','), ('I', 'PRP'), ('uncommon', 'VBP'), ('perspective', 'JJ'), ('sides', 'NNS'), ('fence', 'NN'), ('.', '.')]\n",
            "[('In', 'IN'), ('time', 'NN'), ('data', 'NNS'), ('scientist', 'NN'), (',', ','), ('I', 'PRP'), ('felt', 'VBD'), ('pain', 'NN'), ('.', '.')]\n",
            "[('I\\x92ve', 'NNP'), ('worked', 'VBD'), ('mostly', 'RB'), ('startups', 'VBN'), ('jumped', 'VBD'), ('ships', 'NNS'), ('couple', 'NN'), ('times', 'NNS'), ('early', 'JJ'), ('career', 'NN'), ('.', '.')]\n",
            "[('The', 'DT'), ('reasons', 'NNS'), ('combinations', 'NNS'), ('several', 'JJ'), ('factors', 'NNS'), (',', ','), ('many', 'JJ'), ('elements', 'NNS'), ('I', 'PRP'), ('heard', 'VBP'), ('across', 'IN'), ('companies', 'NNS'), ('.', '.')]\n",
            "[('What', 'WP'), ('I\\x92ll', 'NNP'), ('aim', 'NN'), ('outline', 'NN'), ('general', 'JJ'), ('reasons', 'NNS'), ('I', 'PRP'), ('think', 'VBP'), ('help', 'JJ'), ('situation', 'NN'), ('.', '.')]\n",
            "[('This', 'DT'), ('advice', 'NN'), ('useful', 'JJ'), (':', ':'), ('Data', 'NNS'), ('scientists', 'NNS'), ('currently', 'RB'), ('dissatisfied', 'VBD'), ('unsure', 'JJ'), ('leaving', 'VBG'), ('Managers', 'NNS'), ('organisations', 'NNS'), ('can\\x92t', 'VBP'), ('seem', 'VBP'), ('hang', 'RB'), ('good', 'JJ'), ('data', 'NNS'), ('science', 'NN'), ('talent', 'NN'), ('Aspiring', 'NNP'), ('professionals', 'NNS'), ('considering', 'VBG'), ('stepping', 'VBG'), ('role', 'NN'), ('may', 'MD'), ('unaware', 'VB'), ('(', '('), ('it\\x92s', 'VB'), ('big', 'JJ'), ('investment', 'NN'), ('red', 'JJ'), ('flags', 'NNS'), (')', ')'), ('Before', 'IN'), ('begin', 'NN'), (',', ','), ('must', 'MD'), ('said', 'VBD'), ('I', 'PRP'), ('still', 'RB'), ('love', 'VB'), ('data', 'NNS'), ('science', 'NN'), ('role', 'NN'), ('.', '.')]\n",
            "[('It', 'PRP'), ('rewarding', 'VBG'), ('career', 'NN'), ('\\x97', 'NN'), ('know', 'VBP'), ('get', 'NN'), ('.', '.')]\n",
            "[('Getting', 'VBG'), ('work', 'NN'), ('cutting-edge', 'NN'), ('technology', 'NN'), (',', ','), ('solving', 'VBG'), ('difficult', 'JJ'), ('problems', 'NNS'), ('interesting', 'VBG'), ('ways', 'NNS'), (',', ','), ('using', 'VBG'), ('new', 'JJ'), ('algorithms', 'JJ'), ('developing', 'VBG'), ('machine', 'NN'), ('learning', 'VBG'), ('solutions', 'NNS'), ('that\\x92ll', 'VBP'), ('big', 'JJ'), ('impact', 'NN'), ('organisation', 'NN'), ('\\x97', 'NNP'), ('data', 'NNS'), ('science', 'NN'), ('sounds', 'VBZ'), ('great', 'JJ'), ('!', '.')]\n",
            "[('For', 'IN'), ('many', 'JJ'), (',', ','), ('however', 'RB'), (',', ','), ('good', 'JJ'), ('true', 'JJ'), ('.', '.')]\n",
            "[('I\\x92ve', 'NNP'), ('experienced', 'VBD'), ('first-hand', 'JJ'), ('heard', 'RB'), ('many', 'JJ'), ('people', 'NNS'), ('industry', 'NN'), (',', ','), ('often', 'RB'), (',', ','), ('reality', 'NN'), ('match', 'NN'), ('expectations', 'NNS'), ('.', '.')]\n",
            "[('I\\x92d', 'NNP'), ('go', 'VBP'), ('far', 'RB'), ('say', 'VBP'), ('number', 'NN'), ('one', 'CD'), ('reason', 'NN'), ('data', 'NNS'), ('scientists', 'NNS'), ('get', 'VBP'), ('frustrated', 'VBN'), ('ultimately', 'RB'), ('leave', 'VBP'), ('.', '.')]\n",
            "[('Now', 'RB'), (',', ','), ('many', 'JJ'), ('reasons', 'NNS'), ('might', 'MD'), ('case', 'NN'), ('.', '.')]\n",
            "[('We', 'PRP'), ('remember', 'VBP'), (',', ','), ('two-sided', 'JJ'), ('.', '.')]\n",
            "[('Unrealistic', 'JJ'), ('expectations', 'NNS'), ('Many', 'NNP'), ('data', 'NNS'), ('scientists', 'NNS'), ('early', 'RB'), ('career', 'VBP'), ('simply', 'RB'), ('don\\x92t', 'JJ'), ('experience', 'NN'), ('working', 'VBG'), ('real', 'JJ'), ('organisations', 'NNS'), ('.', '.')]\n",
            "[('Much', 'JJ'), ('way', 'NN'), ('social', 'JJ'), ('media', 'NNS'), ('projects', 'NNS'), ('unrealistic', 'JJ'), ('view', 'NN'), ('people\\x92s', 'NN'), ('lives', 'VBZ'), ('\\x97', 'JJ'), ('it\\x92s', 'JJ'), ('easy', 'JJ'), ('take', 'VB'), ('exciting', 'JJ'), ('stories', 'NNS'), ('assume', 'VBP'), ('that\\x92s', 'JJ'), ('norm', 'NN'), ('.', '.')]\n",
            "[('I\\x92ve', 'NNP'), ('found', 'VBD'), ('common', 'JJ'), ('come', 'JJ'), ('fresh', 'JJ'), ('education', 'NN'), ('research', 'NN'), ('position', 'NN'), ('academia', 'NN'), ('.', '.')]\n",
            "[('It\\x92s', 'NNP'), ('easy', 'JJ'), ('fall', 'NN'), ('infinite', 'JJ'), ('timescale', 'NN'), (',', ','), ('infinite', 'JJ'), ('budget', 'NN'), ('mindset', 'NN'), ('.', '.')]\n",
            "[('All', 'DT'), ('often', 'RB'), ('I\\x92ve', 'NNP'), ('heard', 'VBD'), ('protests', 'NNS'), ('data', 'NNS'), ('scientists', 'NNS'), ('saying', 'VBG'), ('can\\x92t', 'NN'), ('put', 'VBD'), ('timeline', 'JJ'), ('work', 'NN'), ('finished', 'VBD'), ('it\\x92ll', 'NNS'), ('take', 'VB'), ('long', 'JJ'), ('takes', 'VBZ'), ('.', '.')]\n",
            "[('This', 'DT'), ('simply', 'RB'), ('isn\\x92t', 'JJ'), ('true', 'JJ'), ('won\\x92t', 'NN'), ('fit', 'NN'), ('well', 'RB'), ('culture', 'NN'), ('organisations', 'NNS'), ('.', '.')]\n",
            "[('You', 'PRP'), ('either', 'CC'), ('fix', 'VB'), ('scope', 'NN'), ('you\\x92re', 'IN'), ('trying', 'VBG'), ('achieve', 'JJ'), ('vary', 'JJ'), ('timescales', 'NNS'), ('fit', 'VBP'), (',', ','), ('fix', 'JJ'), ('timescale', 'JJ'), ('vary', 'JJ'), ('scope', 'NN'), ('.', '.')]\n",
            "[('The', 'DT'), ('major', 'JJ'), ('contributing', 'VBG'), ('factor', 'NN'), ('crushing', 'VBG'), ('realisation', 'NN'), ('great', 'JJ'), ('deal', 'NN'), ('job', 'NN'), ('isn\\x92t', 'NN'), ('terribly', 'RB'), ('exciting', 'VBG'), ('.', '.')]\n",
            "[('In', 'IN'), ('organisations', 'NNS'), (',', ','), ('you\\x92ll', 'RB'), ('spread', 'JJ'), ('time', 'NN'), ('technical', 'JJ'), ('work', 'NN'), (',', ','), ('less', 'RBR'), ('exciting', 'JJ'), ('stuff', 'NN'), ('.', '.')]\n",
            "[('This', 'DT'), ('issue', 'NN'), ('you\\x92re', 'VBZ'), ('keen', 'JJ'), ('reporting', 'NN'), (',', ','), ('writing', 'VBG'), ('delivering', 'VBG'), ('presentations', 'NNS'), (',', ','), ('repeatedly', 'RB'), ('explaining', 'VBG'), ('basics', 'NNS'), ('models', 'NNS'), ('approaches', 'NNS'), (',', ','), ('project', 'NN'), ('management', 'NN'), ('administrative', 'JJ'), ('overhead', 'NN'), (',', ','), ('trying', 'VBG'), ('get', 'VB'), ('buy-in', 'JJ'), ('parts', 'NNS'), ('organisation', 'NN'), ('.', '.')]\n",
            "[('Harsh', 'NNP'), ('reality', 'NN'), ('It\\x92s', 'NNP'), ('also', 'RB'), ('common', 'JJ'), ('infrastructure', 'NN'), ('data', 'NNS'), ('processing', 'NN'), ('might', 'MD'), ('expect', 'VB'), ('place', 'NN'), ('simply', 'RB'), ('doesn\\x92t', 'JJ'), ('exist', 'NN'), ('.', '.')]\n",
            "[('I', 'PRP'), ('previously', 'RB'), ('worked', 'VBD'), ('start-up', 'JJ'), ('data', 'NNS'), ('scientist', 'NN'), ('number', 'NN'), ('two', 'CD'), ('.', '.')]\n",
            "[('My', 'PRP$'), ('colleague', 'NN'), ('who\\x92d', 'IN'), ('18', 'CD'), ('months', 'NNS'), ('spent', 'VBN'), ('entire', 'JJ'), ('time', 'NN'), ('building', 'NN'), ('fundamental', 'JJ'), ('data', 'NN'), ('pipelines', 'NNS'), ('.', '.')]\n",
            "[('Luckily', 'RB'), (',', ','), ('they\\x92d', 'JJ'), ('pain', 'NN'), ('convincing', 'NN'), ('relevant', 'JJ'), ('people', 'NNS'), ('approve', 'VBP'), ('budgets', 'NNS'), (',', ','), ('working', 'VBG'), ('security', 'NN'), ('IT', 'NNP'), ('headaches', 'VBZ'), ('come', 'VB'), ('adopting', 'VBG'), ('new', 'JJ'), ('cloud', 'NN'), ('technology', 'NN'), (',', ','), ('explained', 'VBD'), ('thousands', 'NNS'), ('times', 'NNS'), ('point', 'VBP'), ('.', '.')]\n",
            "[('In', 'IN'), ('cases', 'NNS'), (',', ','), ('you\\x92ll', 'NN'), ('utilised', 'VBD'), ('clever', 'RB'), ('technical', 'JJ'), ('person', 'NN'), ('deal', 'NN'), ('well', 'RB'), ('loose', 'JJ'), ('requirements', 'NNS'), ('get', 'VBP'), ('stuff', 'JJ'), ('done', 'VBN'), ('.', '.')]\n",
            "[('The', 'DT'), ('fact', 'NN'), ('also', 'RB'), ('data', 'VBD'), ('science', 'NN'), ('might', 'MD'), ('come', 'VB'), ('second', 'JJ'), ('.', '.')]\n",
            "[('These', 'DT'), ('issues', 'NNS'), ('made', 'VBD'), ('worse', 'JJR'), ('coupled', 'JJ'), ('lack', 'NN'), ('experienced', 'VBD'), ('data', 'NNS'), ('scientists', 'NNS'), ('team', 'VBP'), ('lack', 'NN'), ('experience', 'NN'), ('managing', 'VBG'), ('data', 'NNS'), ('scientist', 'NN'), ('among', 'IN'), ('management', 'NN'), ('organisation', 'NN'), ('.', '.')]\n",
            "[('If', 'IN'), ('you\\x92re', 'JJ'), ('person', 'NN'), ('difficult', 'JJ'), ('get', 'NN'), ('arguments', 'NNS'), ('across', 'IN'), ('way', 'NN'), ('resonates', 'NNS'), ('.', '.')]\n",
            "[('This', 'DT'), ('recipe', 'NN'), ('often', 'RB'), ('leads', 'VBZ'), ('unhappy', 'JJ'), ('working', 'VBG'), ('environments', 'NNS'), ('unfulfilled', 'JJ'), ('expectations', 'NNS'), ('.', '.')]\n",
            "[('As', 'IN'), ('data', 'NNS'), ('scientist', 'NN'), (',', ','), ('may', 'MD'), ('join', 'VB'), ('thinking', 'VBG'), ('you\\x92re', 'JJ'), ('build', 'JJ'), ('smart', 'JJ'), ('models', 'NNS'), ('derive', 'VBP'), ('much', 'JJ'), ('value', 'NN'), ('data', 'NNS'), ('possible', 'JJ'), ('.', '.')]\n",
            "[('You', 'PRP'), ('get', 'VBP'), ('held', 'VBN'), ('first', 'JJ'), ('months', 'NNS'), ('require', 'VBP'), ('build', 'JJ'), ('necessary', 'JJ'), ('infrastructure', 'NN'), ('pipelines', 'NNS'), ('even', 'RB'), ('get', 'VB'), ('data', 'NNS'), ('.', '.')]\n",
            "[('Senior', 'JJ'), ('stakeholders', 'NNS'), ('company', 'NN'), ('see', 'VBP'), ('lot', 'NN'), ('time', 'NN'), ('go', 'VB'), ('little', 'JJ'), ('result', 'NN'), ('.', '.')]\n",
            "[('In', 'IN'), ('reality', 'NN'), (',', ','), ('they\\x92d', 'EX'), ('quite', 'RB'), ('satisfied', 'JJ'), ('getting', 'VBG'), ('simple', 'JJ'), ('charting', 'VBG'), ('regular', 'JJ'), ('board', 'NN'), ('meeting', 'NN'), ('.', '.')]\n",
            "[('They', 'PRP'), ('start', 'VBP'), ('see', 'VB'), ('expensive', 'JJ'), ('resource', 'NN'), ('delivering', 'VBG'), ('value', 'NN'), ('quickly', 'RB'), ('enough', 'RB'), ('.', '.')]\n",
            "[('This', 'DT'), ('disconnect', 'NN'), ('ultimately', 'RB'), ('frustrate', 'JJ'), ('parties', 'NNS'), ('.', '.')]\n",
            "[('If', 'IN'), ('get', 'VBN'), ('chance', 'NN'), (',', ','), ('ask', 'VB'), ('questions', 'NNS'), ('around', 'IN'), ('interview', 'NN'), ('stage', 'NN'), (':', ':'), ('Who\\x92s', 'NNP'), ('bought', 'VBD'), ('data', 'NNS'), ('science', 'NN'), ('senior', 'JJ'), ('level', 'NN'), ('organisation', 'NN'), ('?', '.')]\n",
            "[('Do', 'VB'), ('experience', 'NN'), ('hiring', 'VBG'), ('hype', 'NN'), ('?', '.')]\n",
            "[('How', 'WRB'), ('many', 'JJ'), ('people', 'NNS'), ('data', 'NNS'), ('team', 'NN'), ('Are', 'NNP'), ('data', 'VBZ'), ('engineers/analysts/DevOps', 'JJ'), ('engineers', 'NNS'), ('expected', 'VBN'), ('?', '.')]\n",
            "[('Now', 'RB'), (',', ','), ('might', 'MD'), ('seem', 'VB'), ('doom', 'NN'), ('gloom', 'NN'), ('\\x97', 'NNP'), ('isn\\x92t', 'NN'), ('.', '.')]\n",
            "[('Many', 'JJ'), ('organisations', 'NNS'), ('fine', 'VBP'), (',', ','), ('it\\x92s', 'JJ'), ('balance', 'NN'), ('managing', 'VBG'), ('expectations', 'NNS'), ('landing', 'VBG'), ('position', 'NN'), ('right', 'RB'), ('backing', 'VBG'), ('set', 'VBN'), ('success', 'NN'), ('.', '.')]\n",
            "[('Office', 'NN'), ('politics', 'NNS'), ('.', '.')]\n",
            "[('Oh', 'UH'), (',', ','), ('dear', 'JJ'), ('.', '.')]\n",
            "[('I\\x92ve', 'NNP'), ('heard', 'VBD'), ('time', 'NN'), ('talented', 'JJ'), ('teams', 'NNS'), ('good', 'JJ'), ('management', 'NN'), ('completely', 'RB'), ('starve', 'VB'), (',', ','), ('dwindle', 'VB'), (',', ','), ('die', 'VB'), ('politics', 'NNS'), ('.', '.')]\n",
            "[('I\\x92ve', 'NNP'), ('heard', 'VBD'), ('first-hand', 'NN'), ('account', 'NN'), ('senior', 'JJ'), ('leader', 'NN'), ('organisation', 'NN'), ('bought', 'VBD'), ('data', 'NNS'), ('science', 'NN'), ('forced', 'VBN'), ('team', 'NN'), ('swiftly', 'RB'), ('repurposed', 'VBD'), ('mundane', 'JJ'), ('work', 'NN'), ('doesn\\x92t', 'RB'), ('make', 'VB'), ('best', 'JJS'), ('use', 'NN'), ('skills', 'NNS'), ('.', '.')]\n",
            "[('Unfortunately', 'RB'), (',', ','), ('politics', 'NNS'), ('part', 'NN'), ('many', 'JJ'), ('careers', 'NNS'), ('.', '.')]\n",
            "[('Now', 'RB'), (',', ','), ('don\\x92t', 'JJ'), ('\\x91play', 'NN'), ('game\\x92', 'NN'), ('\\x97', 'NNP'), ('always', 'RB'), ('take', 'VBP'), ('rare', 'JJ'), ('in-demand', 'NN'), ('skillset', 'NN'), ('go', 'VBP'), ('elsewhere', 'RB'), ('.', '.')]\n",
            "[('If', 'IN'), ('you\\x92re', 'VBN'), ('familiar', 'JJ'), ('Exit', 'NN'), (',', ','), ('Voice', 'NNP'), (',', ','), ('Loyalty', 'NNP'), (',', ','), ('Neglect', 'NNP'), ('model', 'NN'), ('I\\x92d', 'NNP'), ('urge', 'JJ'), ('take', 'VBP'), ('read', 'NN'), ('.', '.')]\n",
            "[('Stemming', 'VBG'), ('work', 'NN'), ('Albert', 'NNP'), ('Hirschman', 'NNP'), ('outlines', 'VBZ'), ('abstract', 'JJ'), ('model', 'NN'), ('individuals', 'NNS'), ('respond', 'VBP'), ('unacceptable', 'JJ'), ('situations', 'NNS'), ('.', '.')]\n",
            "[('Originally', 'RB'), ('published', 'VBN'), ('1970', 'CD'), ('book', 'NN'), ('discussed', 'VBD'), ('length', 'NN'), ('expanded', 'VBN'), ('upon', 'IN'), ('.', '.')]\n",
            "[('When', 'WRB'), ('things', 'NNS'), ('aren\\x92t', 'RB'), ('right', 'RB'), (',', ','), ('boils', 'NNS'), ('four', 'CD'), ('options', 'NNS'), (':', ':'), ('Exit', 'NN'), ('\\x97', 'NNP'), ('quit', 'NN'), ('job', 'NN'), ('find', 'VBP'), ('another', 'DT'), (',', ','), ('leaving', 'VBG'), ('company', 'NN'), ('worse', 'JJR'), ('state', 'NN'), ('problem', 'NN'), ('persist', 'NN'), ('it\\x92s', 'NN'), ('lost', 'VBD'), ('skills', 'NNS'), ('experience', 'NN'), ('.', '.')]\n",
            "[('Persist', 'NNP'), ('\\x97', 'NNP'), ('ride', 'VB'), ('see', 'VBP'), ('gets', 'VBZ'), ('better', 'RBR'), ('.', '.')]\n",
            "[('This', 'DT'), (',', ','), ('time', 'NN'), (',', ','), ('often', 'RB'), ('leads', 'VBZ'), ('one', 'CD'), ('options', 'NNS'), ('things', 'NNS'), ('don\\x92t', 'RB'), ('right', 'JJ'), ('patience', 'NN'), ('runs', 'NNS'), ('.', '.')]\n",
            "[('Neglect', 'NNP'), ('\\x97', 'NNP'), ('rebel', 'NN'), ('what\\x92s', 'NN'), ('occurring', 'VBG'), ('neglecting', 'JJ'), ('responsibilities', 'NNS'), (',', ','), ('either', 'RB'), ('result', 'NN'), ('getting', 'VBG'), ('easy', 'JJ'), ('ride', 'NN'), ('getting', 'VBG'), ('fired', 'VBN'), ('.', '.')]\n",
            "[('Voice', 'NNP'), ('\\x97', 'NNP'), ('take', 'VBP'), ('stand', 'VBP'), ('try', 'NNS'), ('make', 'VBP'), ('change', 'NN'), ('.', '.')]\n",
            "[('Of', 'IN'), ('four', 'CD'), ('options', 'NNS'), (',', ','), ('Voice', 'NNP'), ('one', 'CD'), ('actively', 'RB'), ('try', 'VB'), ('improve', 'JJ'), ('things', 'NNS'), ('.', '.')]\n",
            "[('In', 'IN'), ('case', 'NN'), (',', ','), ('means', 'VBZ'), ('navigating', 'JJ'), ('office', 'NN'), ('politics', 'NNS'), ('.', '.')]\n",
            "[('In', 'IN'), ('many', 'JJ'), ('circumstances', 'NNS'), (',', ','), ('political', 'JJ'), ('situation', 'NN'), ('organisation', 'NN'), ('might', 'MD'), ('seem', 'VB'), ('well', 'RB'), ('pay', 'RB'), ('grade', 'NN'), ('.', '.')]\n",
            "[('This', 'DT'), ('uncomfortable', 'JJ'), ('may', 'MD'), ('feel', 'VB'), ('powerless', 'JJ'), ('affect', 'JJ'), ('huge', 'JJ'), ('budget', 'NN'), ('cuts', 'NNS'), ('sweeping', 'JJ'), ('changes', 'NNS'), ('.', '.')]\n",
            "[('This', 'DT'), ('might', 'MD'), ('good', 'JJ'), ('time', 'NN'), ('weigh', 'JJ'), ('options', 'NNS'), (',', ','), ('sending', 'VBG'), ('well-written', 'JJ'), ('communication', 'NN'), ('someone', 'NN'), ('leadership', 'NN'), ('might', 'MD'), ('actually', 'RB'), ('catalyst', 'VB'), ('real', 'JJ'), ('change', 'NN'), ('.', '.')]\n",
            "[('If', 'IN'), ('you\\x92re', 'VBN'), ('smaller', 'JJR'), ('organisation', 'NN'), ('decision-makers', 'NNS'), ('reachable', 'JJ'), (',', ','), ('I\\x92d', 'NNP'), ('strongly', 'RB'), ('urge', 'JJ'), ('try', 'NN'), ('build', 'NN'), ('relationship', 'NN'), ('.', '.')]\n",
            "[('Contrary', 'JJ'), ('many', 'JJ'), ('people', 'NNS'), ('might', 'MD'), ('think', 'VB'), ('\\x97', 'JJ'), ('people', 'NNS'), ('generally', 'RB'), ('want', 'VBP'), ('right', 'JJ'), ('organisation', 'NN'), ('people', 'NNS'), ('.', '.')]\n",
            "[('It\\x92s', 'NNP'), ('rare', 'JJ'), ('company', 'NN'), ('hires', 'VBZ'), ('someone', 'NN'), ('genuinely', 'RB'), ('evil', 'JJ'), ('get', 'NN'), ('.', '.')]\n",
            "[('Often', 'RB'), ('senior', 'JJ'), ('stakeholders', 'NNS'), ('might', 'MD'), ('exposure', 'VB'), ('understand', 'JJ'), ('needs', 'NNS'), ('data', 'NNS'), ('science', 'NN'), ('team', 'NN'), ('.', '.')]\n",
            "[('Taking', 'VBG'), ('time', 'NN'), ('show', 'NN'), ('add', 'IN'), ('value', 'NN'), ('building', 'NN'), ('strong', 'JJ'), ('relationship', 'NN'), ('help', 'NN'), ('get', 'VB'), ('value', 'NN'), ('skills', 'NNS'), ('.', '.')]\n",
            "[('It', 'PRP'), ('may', 'MD'), ('also', 'RB'), ('help', 'VB'), ('better', 'JJR'), ('understand', 'VB'), ('real', 'JJ'), ('concerns', 'NNS'), ('business', 'NN'), ('highest', 'JJS'), ('levels', 'NNS'), ('.', '.')]\n",
            "[('In', 'IN'), ('talks', 'NNS'), (',', ','), ('I', 'PRP'), ('early', 'VBP'), ('career', 'NN'), ('data', 'NNS'), ('scientists', 'NNS'), ('I', 'PRP'), ('jokingly', 'RB'), ('give', 'VBP'), ('advice', 'NN'), ('automate', 'NN'), ('CFO', 'NNP'), ('Finance', 'NNP'), ('Director\\x92s', 'NNP'), ('workflow', 'VBD'), ('early', 'JJ'), ('new', 'JJ'), ('job', 'NN'), ('.', '.')]\n",
            "[('This', 'DT'), ('demonstrate', 'NN'), ('value', 'NN'), ('directly', 'RB'), ('person', 'NN'), ('holding', 'VBG'), ('budget', 'NN'), ('win', 'NN'), ('ally', 'NN'), ('.', '.')]\n",
            "[('This', 'DT'), ('half-joke', 'NN'), (',', ','), ('honest', 'NN'), (',', ','), ('people', 'NNS'), ('usually', 'RB'), ('busiest', 'VBP'), ('company', 'NN'), ('often', 'RB'), ('trapped', 'VBD'), ('Excel', 'NNP'), ('hell', 'NN'), ('.', '.')]\n",
            "[('People', 'NNS'), ('business', 'NN'), ('influence', 'NN'), ('need', 'VBP'), ('good', 'JJ'), ('opinion', 'NN'), ('.', '.')]\n",
            "[('Most', 'JJS'), ('won\\x92t', 'JJ'), ('care', 'NN'), ('one', 'CD'), ('bit', 'NN'), ('much', 'JJ'), ('know', 'VBP'), ('algorithms', 'JJ'), ('statistics', 'NNS'), ('.', '.')]\n",
            "[('You\\x92ll', 'NNP'), ('win', 'VBP'), ('favour', 'JJ'), ('mundane', 'NN'), ('tasks', 'NNS'), ('basic', 'JJ'), ('data', 'NNS'), ('retrieval', 'NN'), (',', ','), ('automation', 'NN'), (',', ','), ('reporting', 'VBG'), ('work', 'NN'), ('.', '.')]\n",
            "[('If', 'IN'), ('smile', 'JJ'), ('build', 'VBP'), ('strong', 'JJ'), ('reputation', 'NN'), ('you\\x92ll', 'NN'), ('find', 'VBP'), ('things', 'NNS'), ('get', 'VBP'), ('easier', 'JJR'), ('long', 'JJ'), ('run', 'NN'), ('.', '.')]\n",
            "[('If', 'IN'), ('manage', 'JJ'), ('navigate', 'JJ'), ('office', 'NN'), ('politics', 'NNS'), ('there\\x92s', 'VBP'), ('strong', 'JJ'), ('chance', 'NN'), ('you\\x92re', 'NN'), ('going', 'VBG'), ('build', 'RB'), ('good', 'JJ'), ('reputation', 'NN'), ('.', '.')]\n",
            "[('This', 'DT'), ('double-edged', 'JJ'), ('sword', 'NN'), ('.', '.')]\n",
            "[('Many', 'JJ'), ('people', 'NNS'), ('won\\x92t', 'VBP'), ('understand', 'NN'), ('(', '('), ('care', 'NN'), (')', ')'), ('means', 'VBZ'), ('data', 'JJ'), ('scientist', 'NN'), ('.', '.')]\n",
            "[('As', 'IN'), ('mentioned', 'VBN'), ('earlier', 'RBR'), (',', ','), ('you\\x92ll', 'PRP'), ('seen', 'VBN'), ('clever', 'NN'), ('techie', 'NN'), ('person', 'NN'), ('get', 'VBP'), ('stuff', 'NN'), ('done', 'VBN'), ('.', '.')]\n",
            "[('Having', 'VBG'), ('access', 'NN'), ('data', 'NNS'), ('armed', 'VBD'), ('broad', 'JJ'), ('arsenal', 'JJ'), ('technical', 'JJ'), ('tools', 'NNS'), ('quickly', 'RB'), ('become', 'VB'), ('go-to', 'JJ'), ('person', 'NN'), ('fixing', 'VBG'), ('issues', 'NNS'), ('.', '.')]\n",
            "[('If', 'IN'), ('handle', 'JJ'), (',', ','), ('great', 'JJ'), (',', ','), ('become', 'JJ'), ('burden', 'JJ'), ('people', 'NNS'), ('start', 'VBP'), ('rely', 'RB'), ('apply', 'VB'), ('pressure', 'NN'), ('get', 'NN'), ('uncomfortable', 'JJ'), ('.', '.')]\n",
            "[('You', 'PRP'), ('might', 'MD'), ('quickly', 'RB'), ('find', 'VB'), ('spending', 'VBG'), ('80', 'CD'), ('%', 'NN'), ('time', 'NN'), ('something', 'NN'), ('early-career', 'JJ'), ('DBA', 'NNP'), ('might', 'MD'), ('better', 'RB'), ('suited', 'VBN'), ('.', '.')]\n",
            "[('I', 'PRP'), ('often', 'RB'), ('tell', 'VBP'), ('organisations', 'NNS'), ('data', 'NNS'), ('scientists', 'NNS'), ('anything', 'NN'), (',', ','), ('usually', 'RB'), ('slower', 'JJR'), ('expensively', 'RB'), ('everyone', 'NN'), ('else', 'JJ'), ('\\x97', 'NNP'), ('stress', 'NN'), ('anything', 'NN'), ('.', '.')]\n",
            "[('Having', 'VBG'), ('wide', 'JJ'), ('skillset', 'NN'), ('loosely', 'RB'), ('defined', 'JJ'), ('role', 'NN'), ('fun', 'NN'), ('don\\x92t', 'VBP'), ('fall', 'NN'), ('trap', 'NN'), ('work', 'NN'), ('better', 'RB'), ('suited', 'VBN'), ('jobs', 'NNS'), (',', ','), ('organisation', 'NN'), ('isn\\x92t', 'NN'), ('aware', 'JJ'), ('.', '.')]\n",
            "[('Reach', 'NNP'), ('senior', 'JJ'), ('stakeholders', 'NNS'), ('offer', 'VBP'), ('help', 'NN'), ('hire', 'VB'), ('DBA', 'NNP'), ('BI', 'NNP'), ('developer', 'NN'), ('that\\x92d', 'NN'), ('love', 'NN'), ('work', 'NN'), ('that\\x92s', 'NN'), ('keeping', 'VBG'), ('away', 'RB'), ('really', 'RB'), ('want', 'VBP'), ('.', '.')]\n",
            "[('This', 'DT'), ('also', 'RB'), ('help', 'VBP'), ('tackle', 'VB'), ('problem', 'NN'), ('isolation', 'NN'), ('.', '.')]\n",
            "[('If', 'IN'), ('you\\x92re', 'RB'), ('small', 'JJ'), ('isolated', 'JJ'), ('team', 'NN'), ('data', 'NNS'), ('scientists', 'NNS'), (',', ','), ('expertise', 'VBP'), ('things', 'NNS'), ('data', 'NNS'), ('actually', 'RB'), ('keep', 'VB'), ('isolated', 'JJ'), ('.', '.')]\n",
            "[('Data', 'NNP'), ('becomes', 'VBZ'), ('domain', 'JJ'), ('people', 'NNS'), ('don\\x92t', 'VBP'), ('want', 'JJ'), ('take', 'NN'), ('ownership', 'NN'), ('.', '.')]\n",
            "[('Helping', 'VBG'), ('organisation', 'NN'), ('better', 'RBR'), ('structure', 'NN'), ('expand', 'NN'), ('data', 'NNS'), ('roles', 'NNS'), ('better', 'RBR'), ('integrate', 'NN'), ('wider', 'NN'), ('team', 'NN'), ('.', '.')]\n",
            "[('Final', 'NNP'), ('word', 'NN'), ('Unfortunately', 'NNP'), (',', ','), ('knowing', 'VBG'), ('latest', 'JJS'), ('tools', 'NNS'), ('algorithms', 'VBP'), ('won\\x92t', 'RB'), ('enough', 'RB'), ('get', 'VBP'), ('majority', 'NN'), ('data', 'NNS'), ('science', 'NN'), ('roles', 'NNS'), ('.', '.')]\n",
            "[('If', 'IN'), ('go', 'VBN'), ('level', 'NN'), ('set', 'VBN'), ('expectations', 'NNS'), ('understanding', 'VBG'), ('might', 'MD'), ('need', 'VB'), ('educate', 'JJ'), ('organisation', 'NN'), ('little', 'JJ'), ('you\\x92re', 'NN'), ('likely', 'RB'), ('succeed', 'VB'), ('.', '.')]\n",
            "[('I', 'PRP'), ('hope', 'VBP'), ('article', 'NN'), ('helpful', 'JJ'), ('data', 'NNS'), ('scientist', 'NN'), (',', ','), ('organisation', 'NN'), ('employs', 'VBZ'), ('data', 'JJ'), ('scientists', 'NNS'), (',', ','), ('someone', 'NN'), ('looking', 'VBG'), ('get', 'VB'), ('data', 'NNS'), ('science', 'NN'), ('.', '.')]\n",
            "[('If', 'IN'), ('you\\x92d', 'NNS'), ('like', 'IN'), ('advice', 'NN'), ('feel', 'VBP'), ('free', 'JJ'), ('reach', 'NN'), ('.', '.')]\n"
          ],
          "name": "stdout"
        }
      ]
    },
    {
      "cell_type": "code",
      "metadata": {
        "id": "Hep95IONsiMI"
      },
      "source": [
        ""
      ],
      "execution_count": null,
      "outputs": []
    }
  ]
}